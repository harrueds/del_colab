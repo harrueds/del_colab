{
  "nbformat": 4,
  "nbformat_minor": 0,
  "metadata": {
    "colab": {
      "private_outputs": true,
      "provenance": [],
      "authorship_tag": "ABX9TyPbo+hTPvEYlgNH2kBUZOx/",
      "include_colab_link": true
    },
    "kernelspec": {
      "name": "python3",
      "display_name": "Python 3"
    },
    "language_info": {
      "name": "python"
    },
    "accelerator": "GPU",
    "gpuClass": "standard"
  },
  "cells": [
    {
      "cell_type": "markdown",
      "metadata": {
        "id": "view-in-github",
        "colab_type": "text"
      },
      "source": [
        "<a href=\"https://colab.research.google.com/github/harrueds/del_colab/blob/main/cuadratica.ipynb\" target=\"_parent\"><img src=\"https://colab.research.google.com/assets/colab-badge.svg\" alt=\"Open In Colab\"/></a>"
      ]
    },
    {
      "cell_type": "code",
      "execution_count": null,
      "metadata": {
        "id": "mnTqCsIrya_x"
      },
      "outputs": [],
      "source": [
        "A=float(input(\"Ingrese el valor de A: \"))\n",
        "B=float(input(\"Ingrese el valor de B: \"))\n",
        "C=float(input(\"Ingrese el valor de C: \"))\n",
        "disc=B*B-4*A*C\n",
        "#print(\"\",A,\"\",B,\"\",C,\"\",disc)\n",
        "if(disc<0):\n",
        "    print(\"La ecuación no tiene solución real\")\n",
        "elif(disc==0):\n",
        "    print(\"La ecuación tiene una solución real\")\n",
        "    sol=(-B/(2*A))\n",
        "    print(\"La solución es x= \",sol)\n",
        "else:\n",
        "    print(\"La ecuación tiene dos soluciones\")\n",
        "    print(\"Las soluciones son\")\n",
        "    print(\"x1= \",(-B-pow(disc,0.5))/(2*A))\n",
        "    print(\"x2= \",(-B+pow(disc,0.5))/(2*A))"
      ]
    }
  ]
}