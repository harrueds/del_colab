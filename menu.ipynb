{
  "nbformat": 4,
  "nbformat_minor": 0,
  "metadata": {
    "colab": {
      "private_outputs": true,
      "provenance": [],
      "authorship_tag": "ABX9TyNC1Tzf3XE7T5IjWmWq4+yA",
      "include_colab_link": true
    },
    "kernelspec": {
      "name": "python3",
      "display_name": "Python 3"
    },
    "language_info": {
      "name": "python"
    }
  },
  "cells": [
    {
      "cell_type": "markdown",
      "metadata": {
        "id": "view-in-github",
        "colab_type": "text"
      },
      "source": [
        "<a href=\"https://colab.research.google.com/github/harrueds/del_colab/blob/main/menu.ipynb\" target=\"_parent\"><img src=\"https://colab.research.google.com/assets/colab-badge.svg\" alt=\"Open In Colab\"/></a>"
      ]
    },
    {
      "cell_type": "code",
      "execution_count": null,
      "metadata": {
        "id": "5V9Q3j6lZcMj"
      },
      "outputs": [],
      "source": [
        "#Estoy tratando de crear un menú al estilo de los que hacía en lenguaje C\n",
        "#para que se pueda entender bien como utilizar las mismas cosas que se\n",
        "#hacian en lenguaje C pero trasladarlas a python.\n",
        "print(\"**** Menú de opciones ****\")\n",
        "opcion = 0\n",
        "while opcion !=5 :\n",
        "    print(\"\\n\\n1.- Sumar dos números\")\n",
        "    print(\"2.- Decidir si un número es par\")\n",
        "    print(\"3.- Sumar dos matrices ingresadas por el usuario\")\n",
        "    print(\"4.- Calcular cateto o hipotenusa en un triángulo rectángulo\")\n",
        "    print(\"5.- Salir\")\n",
        "    opcion = int(input(\"Ingrese su opción: \"))\n",
        "\n"
      ]
    }
  ]
}